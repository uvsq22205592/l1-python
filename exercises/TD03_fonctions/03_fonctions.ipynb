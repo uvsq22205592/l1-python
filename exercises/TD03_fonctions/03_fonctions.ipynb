{
 "cells": [
  {
   "cell_type": "markdown",
   "metadata": {},
   "source": [
    "# Instructions Générales\n",
    "\n",
    "Ce TD est à faire en créant un fichier td3.py, que vous éditerez dans VSCode. \n",
    "Vous ne remplirez pas les cellules de ce notebook, mais vous les copierez au fur et à mesure \n",
    "dans votre fichier pour les compléter.\n",
    "\n",
    "Vous respecterez au mieux les règles d'écriture de code, en particulier chaque fonction devra avoir un **docstring** et des commentaires si nécessaire et les noms de variable seront illustratifs de leur usage. Vous utiliserez les outils de débogage (flake8, mypy, debugger, pythontutor ...) pour corriger vos bogues."
   ]
  },
  {
   "cell_type": "markdown",
   "metadata": {},
   "source": [
    "# Gestion du temps\n",
    "\n",
    "Nous allons créer un petit logiciel de gestion du temps et des dates.\n",
    "Pour cela nous aurons besoin de créer un certain nombre de fonctions utilitaires.\n",
    "\n",
    "Un temps a le format suivant: (jour: int, heure: int, minute: int, seconde: int).\n",
    "C'est un tuple de 4 éléments. Par exemple (4, 3, 13, 20) correspond à 4 jours, 3 heures, 13 minutes et 20 secondes.\n",
    "Si on a une variable temps = (4, 3, 13, 20), pour accéder au premier élément on fait temps\\[0\\] ce qui donne 4,\n",
    "le nombre de jours.\n",
    "\n",
    "Créer la fonction qui prend comme argument le temps et renvoie le nombre de seconde total correspondant à ce temps.\n",
    "Créer la fonction qui prend un nombre de secondes et renvoie le temps correspondant."
   ]
  },
  {
   "cell_type": "code",
   "execution_count": 2,
   "metadata": {},
   "outputs": [
    {
     "name": "stdout",
     "output_type": "stream",
     "text": [
      "<class 'tuple'>\n",
      "342094\n",
      "3 jours 23 heures 1 minutes 34 secondes\n"
     ]
    }
   ],
   "source": [
    "#temps[0] : jours, temps[1]: heures, temps[2]: minutes, temps[3]: secondes\n",
    "from math import*\n",
    "\n",
    "def tempsEnSeconde(temps):\n",
    "    secondes = (temps[0]*24*60*60) + (temps[1]*60*60) + (temps[2]*60) + temps[3]\n",
    "    return(secondes)\n",
    "\n",
    "temps = (3,23,1,34)\n",
    "print(type(temps))\n",
    "print(tempsEnSeconde(temps))   \n",
    "\n",
    "def secondeEnTemps(seconde):\n",
    "    jours = seconde // (24*60*60)\n",
    "    seconde = seconde % (24*60*60)\n",
    "    heures = seconde // (60*60)\n",
    "    seconde = seconde % (60*60)\n",
    "    minutes = seconde // (60)\n",
    "    seconde = seconde % 60\n",
    "    return(jours, heures, minutes, seconde)\n",
    "    pass\n",
    "    \n",
    "temps = secondeEnTemps(342094)\n",
    "print(temps[0],\"jours\",temps[1],\"heures\",temps[2],\"minutes\",temps[3],\"secondes\")"
   ]
  },
  {
   "cell_type": "markdown",
   "metadata": {},
   "source": [
    "Créer une fonction d'affichage d'un temps `afficheTemps`. Attention, les mots jour, heure et seconde doivent être au pluriel s'il y en a plusieurs. S'il y en a zéro, ils ne doivent pas apparaître.\n",
    "`print(message, end=\"\")` permet de ne pas sauter une ligne après un print. \n",
    "Vous pouvez écrire une fonction qui affiche un mot au pluriel ou non, appelée ensuite plusieurs fois par `afficheTemps` pour simplifier votre code.\n"
   ]
  },
  {
   "cell_type": "code",
   "execution_count": 3,
   "metadata": {},
   "outputs": [
    {
     "name": "stdout",
     "output_type": "stream",
     "text": [
      "1 jours 14 minutes 23 secondes "
     ]
    }
   ],
   "source": [
    "#fonction auxiliaire ici\n",
    "def affichePluriel(val, mot):\n",
    "    if val != 0:\n",
    "        print(val, mot,end='')\n",
    "    if val >= 1:\n",
    "        print('s ',end='')\n",
    "\n",
    "def afficheTemps(temps):\n",
    "    affichePluriel(temps[0],'jour')\n",
    "    affichePluriel(temps[1],'heure')\n",
    "    affichePluriel(temps[2],'minute')\n",
    "    affichePluriel(temps[3],'seconde')\n",
    "    \n",
    "afficheTemps((1,0,14,23))   "
   ]
  },
  {
   "cell_type": "markdown",
   "metadata": {},
   "source": [
    "Ecrire une fonction qui demande à l'utilisateur de rentrer un nombre de jours, d'heures, de minutes et\n",
    "de secondes et qui renvoie un temps. Attention, si l'entrée utilisateur n'est pas correcte, par exemple 80 minutes,\n",
    "afficher un message d'erreur et s'arrêter.\n",
    "\n",
    "(Optionnel) Au lieu d'arêter le programme, demander de rentrer une nouvelle valeur, tant que \n",
    "ce n'est pas une valeur correcte."
   ]
  },
  {
   "cell_type": "code",
   "execution_count": 6,
   "metadata": {},
   "outputs": [
    {
     "name": "stdout",
     "output_type": "stream",
     "text": [
      "Mauvaise valeur pour heure\n",
      "555258464265546 jours 12 heures 54 minutes 2 secondes "
     ]
    }
   ],
   "source": [
    "def demandeTemps():\n",
    "    jours = int(input('Entrer un nombre de jours'))\n",
    "    heures = int(input(\"Entrer un nombre d'heures\"))\n",
    "    minutes = int(input(\"Entrer un nombre de minutes\"))\n",
    "    secondes = int(input(\"Entrer un nombre de secondes\"))\n",
    "    while heures not in range(0,24):\n",
    "        print('Mauvaise valeur pour heure')\n",
    "        heures = int(input(\"Entre une autre valeur de l'heure\"))\n",
    "    while minutes not in range(0,60):\n",
    "        print('Erreur pour les minutes')\n",
    "        minutes = int(input(\"Entre une autre valeur de minutes\"))\n",
    "    while secondes not in range(0,60):\n",
    "        print(\"Erreur pour les secondes\")\n",
    "        secondes = int(input(\"Entre une autre valeur de secondes\"))\n",
    "\n",
    "    return(jours,heures,minutes,secondes)\n",
    "\n",
    "\n",
    "afficheTemps(demandeTemps())"
   ]
  },
  {
   "cell_type": "markdown",
   "metadata": {},
   "source": [
    "On veut être capable d'additionner deux temps. Donner une fonction qui fait ce calcul,\n",
    "en utilisant les fonctions précédentes."
   ]
  },
  {
   "cell_type": "code",
   "execution_count": 7,
   "metadata": {},
   "outputs": [
    {
     "name": "stdout",
     "output_type": "stream",
     "text": [
      "12 jours 2 heures 1 minutes 26 secondes "
     ]
    }
   ],
   "source": [
    "def sommeTemps(temps1,temps2):\n",
    "    addition = secondeEnTemps(tempsEnSeconde(temps1) + tempsEnSeconde(temps2))\n",
    "    return (addition)\n",
    "\n",
    "afficheTemps(sommeTemps((6,3,4,25),(5,22,57,1)))"
   ]
  },
  {
   "cell_type": "markdown",
   "metadata": {},
   "source": [
    "On veut maintenant calculer un pourcentage d'un temps. Par exemple, 20% de\n",
    "2 jours et 36 minutes correspond à 9 heures, 43 minutes et 12 secondes.\n",
    "\n",
    "Implémenter la fonction `proportionTemps` puis appeler cette fonction en échangeant l'ordre des arguments mais en les nommant."
   ]
  },
  {
   "cell_type": "code",
   "execution_count": 8,
   "metadata": {},
   "outputs": [
    {
     "name": "stdout",
     "output_type": "stream",
     "text": [
      "9 heures 43 minutes 12 secondes "
     ]
    }
   ],
   "source": [
    "def proportionTemps(temps,proportion):\n",
    "    calcul = secondeEnTemps(int(tempsEnSeconde(temps) * proportion))\n",
    "    return(calcul)\n",
    "\n",
    "afficheTemps(proportionTemps((2,0,36,0),0.2))\n",
    "#appeler la fonction en échangeant l'ordre des arguments"
   ]
  },
  {
   "cell_type": "markdown",
   "metadata": {},
   "source": [
    "On veut maintenant afficher un temps sous forme de date, en supposant \n",
    "que le temps 0 est le 1 janvier 1970 à 00:00:00.\n",
    "\n",
    "* Implémenter une fonction `tempsEnDate`qui donne la date sous la forme (année, jour, heure, minute, seconde).\n",
    "* Implémenter la fonction `afficheDate`qui affiche la date. \n",
    "* (Optionnel) Gérer également les mois."
   ]
  },
  {
   "cell_type": "code",
   "execution_count": 9,
   "metadata": {},
   "outputs": [
    {
     "name": "stdout",
     "output_type": "stream",
     "text": [
      "11574 jours 1 heures 46 minutes 40 secondes \n",
      "\n",
      "2001 années 259 jours 1 heures 46 minutes 40 secondes "
     ]
    }
   ],
   "source": [
    "def tempsEnDate(temps):\n",
    "    annee = (temps[0] // 365) + 1970\n",
    "    jours = temps[0] % 365\n",
    "    return(annee,jours,temps[1],temps[2],temps[3])\n",
    "    \n",
    "def afficheDate(date = -1):\n",
    "    affichePluriel(int(date[0]),'année')\n",
    "    affichePluriel(int(date[1]),'jour')\n",
    "    affichePluriel(int(date[2]),'heure')\n",
    "    affichePluriel(int(date[3]),'minute')\n",
    "    affichePluriel(date[4],'seconde')\n",
    "    \n",
    "temps = secondeEnTemps(1000000000)\n",
    "afficheTemps(temps)\n",
    "print(\"\\n\")\n",
    "afficheDate(tempsEnDate(temps))"
   ]
  },
  {
   "cell_type": "markdown",
   "metadata": {},
   "source": [
    "Il existe des fonctions dans la librairie `time` pour la gestion du temps. En particulier, il existe\n",
    "une fonction `time` qui donne le temps écoulé depuis 1970 en secondes. \n",
    "La trouver avec la [documentation python](https://docs.python.org/fr/3/library/time.html#module-time) et la tester en utilisant `afficheDate`. \n",
    "Tester de la même manière la fonction `time.gmtime` qui réalise une tâche similaire à `tempsEnDate`.\n",
    "Que constatez vous ?"
   ]
  },
  {
   "cell_type": "code",
   "execution_count": 10,
   "metadata": {},
   "outputs": [
    {
     "name": "stdout",
     "output_type": "stream",
     "text": [
      "2022 années 295 jours 13 heures 37 minutes 59.515965938568115 secondes pour multiple 1 et rapport 4\n",
      "pour multiple 2 et rapport 16\n",
      "pour multiple 3 et rapport 64\n",
      "pour multiple 4 et rapport 256\n",
      "pour multiple 5 et rapport 1024\n",
      "pour multiple 6 et rapport 4096\n",
      "pour multiple 7 et rapport 16384\n",
      "pour multiple 8 et rapport 65536\n",
      "pour multiple 9 et rapport 262144\n",
      "pour multiple 10 et rapport 1048576\n"
     ]
    }
   ],
   "source": [
    "#tester ici les fonctions de la librairie time\n",
    "from time import*\n",
    "afficheDate(tempsEnDate(secondeEnTemps(time())))\n",
    "\n",
    "for multiple in range (1,11):\n",
    "    a = 100**multiple\n",
    "    b = 400**multiple\n",
    "    rapport = b/a - int(b/a)\n",
    "    if rapport == 0:\n",
    "        print (\"pour multiple\",multiple,\"et rapport\", b//a)\n",
    "    elif rapport != 0:\n",
    "        print (\"pour multiple\",multiple)"
   ]
  },
  {
   "cell_type": "markdown",
   "metadata": {},
   "source": [
    "Attention, tous les 4 ans les années sont bisextiles (un jour de plus) sauf les multiples de 100 qui ne sont pas des multiples de 400.\n",
    "Donner un code qui prend un nombre de jours et affiche toutes les années bisextiles depuis le 1er janvier 1970 à 00:00:00 jusqu'à la fin de ces jours."
   ]
  },
  {
   "cell_type": "code",
   "execution_count": 11,
   "metadata": {},
   "outputs": [
    {
     "name": "stdout",
     "output_type": "stream",
     "text": [
      "2\n",
      "1972 est une année bisextile\n",
      "1976 est une année bisextile\n",
      "1980 est une année bisextile\n",
      "1984 est une année bisextile\n",
      "1988 est une année bisextile\n",
      "1992 est une année bisextile\n",
      "1996 est une année bisextile\n",
      "2000 est une année bisextile\n",
      "2004 est une année bisextile\n",
      "2008 est une année bisextile\n",
      "2012 est une année bisextile\n",
      "2016 est une année bisextile\n",
      "2020 est une année bisextile\n"
     ]
    }
   ],
   "source": [
    "def bisextile(jour):\n",
    "    annee = int(jour // 365)\n",
    "    debut = annee%4\n",
    "    print(debut)\n",
    "    for i in range (debut,annee,4):\n",
    "        print(1970+i,\"est une année bisextile\")\n",
    "\n",
    "bisextile(20000)"
   ]
  },
  {
   "cell_type": "markdown",
   "metadata": {},
   "source": [
    "Implémenter une fonction `nombreBisextile` qui calcule le nombre d'années bisextiles entre le 1er janvier 1970 et le nombre de jour donnés.\n",
    "Utilisez-la pour implémenter une fonction `tempsEnDateBisextile` qui fait la même chose que `tempsEnDate` mais en prenant en compte les années bisextiles."
   ]
  },
  {
   "cell_type": "code",
   "execution_count": 12,
   "metadata": {},
   "outputs": [
    {
     "name": "stdout",
     "output_type": "stream",
     "text": [
      "11574 jours 1 heures 46 minutes 40 secondes \n",
      "\n",
      "2001 années 251 jours 1 heures 46 minutes 40 secondes 2022 années 282 jours 13 heures 38 minutes 43.674495220184326 secondes \n",
      "\n",
      "2022 années 295 jours 13 heures 38 minutes 43.6749906539917 secondes "
     ]
    }
   ],
   "source": [
    "def nombreBisextile(jour):\n",
    "    number = int(jour / 365.25*4)\n",
    "    return(number)\n",
    "\n",
    "def tempsEnDateBisextile(temps):\n",
    "    date = 1970\n",
    "    jour = int(temps[0])\n",
    "    while jour >= 364:\n",
    "        if date % 4 == 0:\n",
    "            jour = jour-366\n",
    "            date += 1\n",
    "        elif date % 4 != 0:\n",
    "            jour = jour-365\n",
    "            date += 1\n",
    "    return(date,jour,temps[1],temps[2],temps[3])\n",
    "        \n",
    "temps = secondeEnTemps(1000000000)\n",
    "afficheTemps(temps)\n",
    "print(\"\\n\")\n",
    "afficheDate(tempsEnDateBisextile(temps))\n",
    "\n",
    "afficheDate(tempsEnDateBisextile(secondeEnTemps(time())))\n",
    "print(\"\\n\")\n",
    "afficheDate(tempsEnDate(secondeEnTemps(time())))"
   ]
  },
  {
   "cell_type": "markdown",
   "metadata": {},
   "source": [
    "Ajouter des valeurs par défaut dans le code de `afficheDate` afin de pouvoir ommettre\n",
    "l'argument de ces fonctions. Dans ce cas là, on affichera la date actuelle en utilisant la fonction `time`."
   ]
  },
  {
   "cell_type": "markdown",
   "metadata": {},
   "source": [
    "On va maintenant inspecter notre code pour améliorer sa qualité:\n",
    "\n",
    "* Regarder tous les warnings donnés par flake8 et essayer de les régler.\n",
    "* Utiliser le debugger (F5) pour étudier le fonctionnement de votre fonction nombreBisextile.\n",
    "* Mettre les annotations de type des arguments et du retour de la fonction pour nombreBisextile et une autre fonction de votre choix. Vérifier avec mypy que tout fonctionne bien."
   ]
  },
  {
   "cell_type": "markdown",
   "metadata": {},
   "source": [
    "Donner une fonction qui vérifie la charge horaire d'un employé, donnée sous forme d'une liste de temps travaillé chaque semaine dans un mois. Il ne faut pas dépasser 48h par semaine et 140h par mois (qu'on considère ici de 4 semaines).\n",
    "\n",
    "(Optionnel) S'adapter à une liste qui peut contenir plusieurs mois."
   ]
  },
  {
   "cell_type": "code",
   "execution_count": null,
   "metadata": {},
   "outputs": [],
   "source": [
    "def verifie(liste_temps):\n",
    "    pass\n",
    "\n",
    "\n",
    "liste_temps = [[1,2,39,34],[0,1,9,4],[0,29,39,51],[0,31,13,46]]\n",
    "verifie(liste_temps)\n",
    "\n",
    "\n",
    "liste_temps = [[1,2,39,34],[0,1,9,4],[0,29,39,51],[0,31,13,46]]\n",
    "verifie(liste_temps)\n",
    "\n",
    "a = 2\n",
    "def calculs(b,c):\n",
    "    a = 1\n",
    "    c = a * 2\n",
    "    return a + b;\n",
    "c = 1\n",
    "b = calculs(3,4)\n",
    "print(b,c)"
   ]
  }
 ],
 "metadata": {
  "kernelspec": {
   "display_name": "Python 3.10.0 64-bit",
   "language": "python",
   "name": "python3"
  },
  "language_info": {
   "codemirror_mode": {
    "name": "ipython",
    "version": 3
   },
   "file_extension": ".py",
   "mimetype": "text/x-python",
   "name": "python",
   "nbconvert_exporter": "python",
   "pygments_lexer": "ipython3",
   "version": "3.10.0"
  },
  "vscode": {
   "interpreter": {
    "hash": "369f2c481f4da34e4445cda3fffd2e751bd1c4d706f27375911949ba6bb62e1c"
   }
  }
 },
 "nbformat": 4,
 "nbformat_minor": 4
}
